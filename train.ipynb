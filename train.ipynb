{
 "cells": [
  {
   "cell_type": "code",
   "execution_count": 5,
   "metadata": {},
   "outputs": [],
   "source": [
    "import pandas as pd\n",
    "import numpy as np\n",
    "from scipy.sparse import coo_matrix\n",
    "import scipy.linalg as la\n",
    "from tqdm import tqdm\n",
    "import scipy.sparse as sp"
   ]
  },
  {
   "cell_type": "code",
   "execution_count": 3,
   "metadata": {},
   "outputs": [],
   "source": [
    "def create_sparse_matrices(df):\n",
    "    \n",
    "    N = len(df['userid'].unique())\n",
    "    M = len(df['movieid'].unique())\n",
    "\n",
    "    # Map Ids to indices\n",
    "    user_mapper = dict(zip(np.unique(df['userid']).astype('str'), list(range(N))))\n",
    "    movie_mapper = dict(zip(np.unique(df['movieid']).astype('str'), list(range(M))))\n",
    "\n",
    "    # Map indices to IDs\n",
    "    user_inv_mapper = dict(zip([str(i) for i in range(N)], [int(i) for i in np.unique(df['userid'])]))\n",
    "    movie_inv_mapper = dict(zip([str(i) for i in range(M)], np.unique(df['movieid'])))\n",
    "\n",
    "    user_index = [user_mapper[str(i)] for i in df['userid']]\n",
    "    movie_index = [movie_mapper[str(i)] for i in df['movieid']]\n",
    "\n",
    "    sparse_movie_user = coo_matrix((df[\"rating\"], (movie_index, user_index)), shape=(M, N))\n",
    "    sparse_user_movie = coo_matrix((df[\"rating\"], (user_index, movie_index)), shape=(N, M))\n",
    "\n",
    "    return sparse_movie_user, sparse_user_movie, user_mapper, movie_mapper, user_inv_mapper, movie_inv_mapper\n",
    "\n",
    "def low_rank_matrix_factorization(X_sparse, k, niters=8, lam=10., seed = 0):\n",
    "    \"\"\"\n",
    "    Factor a rating matrix into user-features and movie-features.\n",
    "\n",
    "    args:\n",
    "        X_sparse (sp.coo_matrix[num_users, num_movies]) : the ratings matrix, assumed sparse in COO format\n",
    "        k (int) : the number of features in the lower-rank matrices U and V\n",
    "        niters (int) : number of iterations to run\n",
    "        lam (float) : regularization parameter, shown as lambda\n",
    "        seed (int) : the seed for numpy random generator\n",
    "\n",
    "    return : Tuple(U, V)\n",
    "        U : np.array[num_users,  k] -- the user-feature matrix\n",
    "        V : np.array[k, num_movies] -- the movie-feature matrix\n",
    "    \"\"\"\n",
    "    np.random.seed(seed)\n",
    "    I = np.eye(k)\n",
    "    X_sparse_shape = X_sparse.shape\n",
    "    U = np.random.normal(loc = 0, scale = 0.1, size = (X_sparse_shape[0],k))\n",
    "\n",
    "    V = np.random.normal(loc = 0, scale = 0.1, size = (k,X_sparse_shape[1]))\n",
    "\n",
    "\n",
    "    X_rows = X_sparse.tocsr()\n",
    "    X_cols = X_sparse.tocsc()\n",
    "\n",
    "    for _ in tqdm(range(niters)):\n",
    "        for i in tqdm(range(V.shape[1])):\n",
    "            if i % 5000 == 0:\n",
    "              print(i)\n",
    "\n",
    "            ori_col = X_cols.getcol(i).toarray()\n",
    "            indicator_col = (ori_col!=0)\n",
    "\n",
    "\n",
    "            B = (ori_col * U).sum(axis = 0)\n",
    "\n",
    "            A =  U.T @ (indicator_col * U)\n",
    "\n",
    "            V[:,i] = la.solve(A + lam * I, B)\n",
    "\n",
    "\n",
    "\n",
    "        for s in range(U.shape[0]):\n",
    "            if s % 5000 == 0:\n",
    "                print(s)\n",
    "\n",
    "            ori_row = X_rows.getrow(s).toarray()\n",
    "            indicator_row = (ori_row!=0)\n",
    "\n",
    "            B = (ori_row * V).sum(axis = 1)\n",
    "            A = (indicator_row *V ) @  V.T\n",
    "            U[s] = (la.solve(A + lam * I, B))\n",
    "\n",
    "\n",
    "    return (U,V)"
   ]
  },
  {
   "cell_type": "code",
   "execution_count": null,
   "metadata": {
    "tags": [
     "parameters"
    ]
   },
   "outputs": [],
   "source": [
    "data_rate_path = 'data/rate.csv'\n",
    "data_movie_path = 'data/movies.csv'\n",
    "n_data = 3000"
   ]
  },
  {
   "cell_type": "code",
   "execution_count": 8,
   "metadata": {},
   "outputs": [
    {
     "name": "stderr",
     "output_type": "stream",
     "text": [
      "  0%|          | 0/5 [00:00<?, ?it/s]\n",
      " 68%|██████▊   | 995/1466 [00:00<00:00, 4981.66it/s]"
     ]
    },
    {
     "name": "stdout",
     "output_type": "stream",
     "text": [
      "0\n"
     ]
    },
    {
     "name": "stderr",
     "output_type": "stream",
     "text": [
      "100%|██████████| 1466/1466 [00:00<00:00, 4964.88it/s]\n",
      " 20%|██        | 1/5 [00:00<00:01,  2.67it/s]"
     ]
    },
    {
     "name": "stdout",
     "output_type": "stream",
     "text": [
      "0\n"
     ]
    },
    {
     "name": "stderr",
     "output_type": "stream",
     "text": []
    },
    {
     "name": "stdout",
     "output_type": "stream",
     "text": [
      "0\n"
     ]
    },
    {
     "name": "stderr",
     "output_type": "stream",
     "text": [
      "100%|██████████| 1466/1466 [00:00<00:00, 5000.22it/s]\n",
      " 40%|████      | 2/5 [00:00<00:01,  2.71it/s]"
     ]
    },
    {
     "name": "stdout",
     "output_type": "stream",
     "text": [
      "0\n"
     ]
    },
    {
     "name": "stderr",
     "output_type": "stream",
     "text": []
    },
    {
     "name": "stdout",
     "output_type": "stream",
     "text": [
      "0\n"
     ]
    },
    {
     "name": "stderr",
     "output_type": "stream",
     "text": [
      "100%|██████████| 1466/1466 [00:00<00:00, 5461.59it/s]\n",
      " 60%|██████    | 3/5 [00:01<00:00,  2.82it/s]"
     ]
    },
    {
     "name": "stdout",
     "output_type": "stream",
     "text": [
      "0\n"
     ]
    },
    {
     "name": "stderr",
     "output_type": "stream",
     "text": []
    },
    {
     "name": "stdout",
     "output_type": "stream",
     "text": [
      "0\n"
     ]
    },
    {
     "name": "stderr",
     "output_type": "stream",
     "text": [
      "100%|██████████| 1466/1466 [00:00<00:00, 5003.30it/s]\n",
      " 80%|████████  | 4/5 [00:01<00:00,  2.78it/s]"
     ]
    },
    {
     "name": "stdout",
     "output_type": "stream",
     "text": [
      "0\n"
     ]
    },
    {
     "name": "stderr",
     "output_type": "stream",
     "text": []
    },
    {
     "name": "stdout",
     "output_type": "stream",
     "text": [
      "0\n"
     ]
    },
    {
     "name": "stderr",
     "output_type": "stream",
     "text": [
      "100%|██████████| 1466/1466 [00:00<00:00, 5100.42it/s]\n",
      "100%|██████████| 5/5 [00:01<00:00,  2.76it/s]"
     ]
    },
    {
     "name": "stdout",
     "output_type": "stream",
     "text": [
      "0\n"
     ]
    },
    {
     "name": "stderr",
     "output_type": "stream",
     "text": [
      "\n"
     ]
    }
   ],
   "source": [
    "df_rate = pd.read_csv(data_rate_path)[:n_data]\n",
    "df_movie = pd.read_csv(data_movie_path)  \n",
    "(sparse_movie_user, sparse_user_movie, \n",
    "user_mapper, movie_mapper, \n",
    "user_inv_mapper, movie_inv_mapper) = create_sparse_matrices(df_rate)\n",
    "\n",
    "X_check = sparse_user_movie\n",
    "U_check, V_check = low_rank_matrix_factorization(X_check, 4,niters = 5)\n",
    "\n",
    "np.save('exp_data/U_check_new.npy', U_check)\n",
    "np.save('exp_data/V_check_new.npy', V_check)\n",
    "sp.save_npz('exp_data/X_check_new.npz', X_check)"
   ]
  },
  {
   "cell_type": "code",
   "execution_count": null,
   "metadata": {},
   "outputs": [],
   "source": []
  }
 ],
 "metadata": {
  "kernelspec": {
   "display_name": "mlip",
   "language": "python",
   "name": "python3"
  },
  "language_info": {
   "codemirror_mode": {
    "name": "ipython",
    "version": 3
   },
   "file_extension": ".py",
   "mimetype": "text/x-python",
   "name": "python",
   "nbconvert_exporter": "python",
   "pygments_lexer": "ipython3",
   "version": "3.9.18"
  }
 },
 "nbformat": 4,
 "nbformat_minor": 2
}
